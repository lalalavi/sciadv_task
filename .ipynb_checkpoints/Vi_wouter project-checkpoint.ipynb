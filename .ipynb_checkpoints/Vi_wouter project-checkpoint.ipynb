{
 "cells": [
  {
   "cell_type": "markdown",
   "metadata": {},
   "source": [
    "To do\n",
    "\n",
    "1. Think about the effects of randomization. Do we want people to have a different order of noise within the trials? Some people will experience noise, and some people won't. More noise? Then we lose meaning of the condition i think. We can also hardcode exactly the same order for everyone. \n",
    "\n",
    "2. Fix the flickering of the negative feedback\n",
    "\n",
    "3. Add qualtrics\n",
    "\n",
    "4. Write preprocessing new preprocessing data script for stata"
   ]
  },
  {
   "cell_type": "code",
   "execution_count": 1,
   "metadata": {},
   "outputs": [],
   "source": [
    "import numpy as np\n",
    "import pandas as pd\n",
    "import re \n",
    "import random\n",
    "import os\n",
    "import time\n"
   ]
  },
  {
   "cell_type": "code",
   "execution_count": 11,
   "metadata": {},
   "outputs": [
    {
     "data": {
      "text/plain": [
       "array([ 1,  2,  3,  4,  5,  6,  7,  8,  9, 10, 11, 12, 13, 14, 15, 16, 17,\n",
       "       18, 19, 20])"
      ]
     },
     "execution_count": 11,
     "metadata": {},
     "output_type": "execute_result"
    }
   ],
   "source": [
    "# create an array from 1 to 20\n",
    "hr_n = np.arange(1,21,1)\n",
    "hr_n"
   ]
  },
  {
   "cell_type": "code",
   "execution_count": 12,
   "metadata": {},
   "outputs": [],
   "source": [
    "# 4 rounds (%80 of total) should be from the other condition\n",
    "lr_n = np.random.choice(hr_n, size=4, replace=False) #replace false does not allow repeated numbers\n",
    "hr_n = np.setdiff1d(hr_n, lr_n) #update hr"
   ]
  },
  {
   "cell_type": "code",
   "execution_count": 13,
   "metadata": {},
   "outputs": [
    {
     "name": "stdout",
     "output_type": "stream",
     "text": [
      "hr_numbers:  [ 1  2  5  6  7  8  9 10 11 12 13 15 16 18 19 20]\n",
      "lr_numbers:  [ 3 17  4 14]\n"
     ]
    }
   ],
   "source": [
    "print(\"hr_numbers: \", hr_n)\n",
    "print(\"lr_numbers: \", lr_n)"
   ]
  },
  {
   "cell_type": "code",
   "execution_count": null,
   "metadata": {},
   "outputs": [],
   "source": [
    "if player.round_number in hr_n:\n",
    "    player.sReward = 'HR'\n",
    "else:\n",
    "    player.sReward = 'LR'"
   ]
  },
  {
   "cell_type": "code",
   "execution_count": 3,
   "metadata": {},
   "outputs": [
    {
     "name": "stdout",
     "output_type": "stream",
     "text": [
      "[[576, 405, 288, 608, 647, 256], [298, 763, 633, 313, 448, 213], [478, 242, 211, 208, 219, 187], [438, 462, 273, 614, 348, 432], [451, 237, 186, 431, 262, 336], [505, 251, 210, 592, 436, 418], [593, 410, 452, 634, 284, 394], [257, 635, 122, 498, 474, 145], [494, 480, 353, 309, 374, 230], [267, 648, 555, 589, 343, 466], [502, 574, 218, 475, 243, 276], [743, 351, 597, 347, 274, 225], [371, 220, 457, 373, 268, 477], [296, 359, 345, 442, 450, 538], [618, 467, 470, 547, 778, 500], [727, 643, 632, 645, 572, 265], [275, 203, 419, 771, 570, 239], [369, 511, 556, 216, 515, 401], [628, 479, 423, 127, 407, 278]]\n"
     ]
    },
    {
     "name": "stderr",
     "output_type": "stream",
     "text": [
      "/Applications/anaconda3/lib/python3.8/site-packages/openpyxl/worksheet/_reader.py:308: UserWarning: Unknown extension is not supported and will be removed\n",
      "  warn(msg)\n",
      "/Applications/anaconda3/lib/python3.8/site-packages/openpyxl/worksheet/_reader.py:308: UserWarning: Unknown extension is not supported and will be removed\n",
      "  warn(msg)\n"
     ]
    }
   ],
   "source": [
    "df = pd.read_excel(\"_static/global/HR.xlsx\",index_col=\"Numbers\")\n",
    "df2 = pd.read_excel(\"_static/global/LR.xlsx\",index_col=\"Numbers\")\n",
    "IMG_ON_PAGE = 6\n",
    "\n",
    "\n",
    "pattern = r\"meme(?P<number>\\d{3})\\.jpeg\"\n",
    "LRmemelist = os.listdir('_static/LR')[1:-1] \n",
    "LRnumbers = [int(re.match(pattern, x).group(\"number\")) for x in LRmemelist]  # take all of the numbers from the image files and put them on a list\n",
    "LRnumbers = random.sample(LRnumbers, len(LRnumbers))        #shuffle so order is not the same across participants\n",
    "LRnumbers = [LRnumbers[n-IMG_ON_PAGE:n] for n in range(IMG_ON_PAGE,len(LRnumbers), IMG_ON_PAGE)]\n",
    "\n",
    "print(LRnumbers)\n",
    "\n",
    "        "
   ]
  },
  {
   "cell_type": "code",
   "execution_count": null,
   "metadata": {},
   "outputs": [],
   "source": []
  }
 ],
 "metadata": {
  "kernelspec": {
   "display_name": "Python 3",
   "language": "python",
   "name": "python3"
  },
  "language_info": {
   "codemirror_mode": {
    "name": "ipython",
    "version": 3
   },
   "file_extension": ".py",
   "mimetype": "text/x-python",
   "name": "python",
   "nbconvert_exporter": "python",
   "pygments_lexer": "ipython3",
   "version": "3.8.5"
  }
 },
 "nbformat": 4,
 "nbformat_minor": 4
}
